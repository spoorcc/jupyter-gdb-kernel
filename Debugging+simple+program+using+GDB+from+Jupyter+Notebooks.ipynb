{
 "cells": [
  {
   "cell_type": "markdown",
   "metadata": {},
   "source": [
    "# Debugging simple program from jupyter Notebook\n",
    "\n",
    "This notebook shows how to control a GDB session from a jupyter notebook"
   ]
  },
  {
   "cell_type": "markdown",
   "metadata": {},
   "source": [
    "Given a trivial c-program:\n",
    "\n",
    "```c\n",
    "// file: dummy.c\n",
    "#include <stdio.h>\n",
    "\n",
    "int main()\n",
    "{\n",
    "   int i = 0;\n",
    "\n",
    "   for(i=0; i<10; i++)\n",
    "       printf(\"i: %d\\n\",i);\n",
    "\n",
    "   return 0;\n",
    "}\n",
    "```"
   ]
  },
  {
   "cell_type": "markdown",
   "metadata": {},
   "source": [
    "Which I compile with debug flags:\n",
    "\n",
    "```shell\n",
    "gcc dummy.c -g -o dummy\n",
    "```"
   ]
  },
  {
   "cell_type": "markdown",
   "metadata": {},
   "source": [
    "I can create a `gdbserver` session (on the same machine where jupyter is running) which I can control through my jupyter notebook\n",
    "\n",
    "```shell\n",
    "$ gdbserver 0.0.0.0:1234 dummy\n",
    "Process dummy created; pid = 3610\n",
    "Listening on port 1234\n",
    "```"
   ]
  },
  {
   "cell_type": "markdown",
   "metadata": {},
   "source": [
    "Let us first connect to the `gdbserver` on our localhost (`127.0.0.1`)"
   ]
  },
  {
   "cell_type": "code",
   "execution_count": 1,
   "metadata": {},
   "outputs": [
    {
     "name": "stdout",
     "output_type": "stream",
     "text": [
      " Remote debugging using 127.0.0.1:1234\n",
      "Reading /home/vagrant/jupyter-gdb-kernel/test/dummy from remote target...\n",
      "warning: File transfers from remote targets can be slow. Use \"set sysroot\" to access files locally instead.\n",
      "Reading /home/vagrant/jupyter-gdb-kernel/test/dummy from remote target...\n",
      "Reading symbols from target:/home/vagrant/jupyter-gdb-kernel/test/dummy...done.\n",
      "Reading /lib64/ld-linux-x86-64.so.2 from remote target...\n",
      "Reading /lib64/ld-linux-x86-64.so.2 from remote target...\n",
      "Reading symbols from target:/lib64/ld-linux-x86-64.so.2...Reading /lib64/ld-2.23.so from remote target...\n",
      "Reading /lib64/.debug/ld-2.23.so from remote target...\n",
      "(no debugging symbols found)...done.\n",
      "0x00007ffff7dd7cc0 in ?? () from target:/lib64/ld-linux-x86-64.so.2\n"
     ]
    },
    {
     "ename": "",
     "evalue": "1",
     "output_type": "error",
     "traceback": []
    }
   ],
   "source": [
    "target remote 127.0.0.1:1234"
   ]
  },
  {
   "cell_type": "markdown",
   "metadata": {},
   "source": [
    "We can show the source code using the `list` command"
   ]
  },
  {
   "cell_type": "code",
   "execution_count": 2,
   "metadata": {},
   "outputs": [
    {
     "name": "stdout",
     "output_type": "stream",
     "text": [
      " 1\t#include <stdio.h>\n",
      "2\t\n",
      "3\t\n",
      "4\tint main()\n",
      "5\t{\n",
      "6\t    int i = 0;\n",
      "7\t\n",
      "8\t    for(i=0; i<10; i++)\n",
      "9\t        printf(\"i: %d\\n\",i);\n",
      "10\t\n"
     ]
    },
    {
     "ename": "",
     "evalue": "1",
     "output_type": "error",
     "traceback": []
    }
   ],
   "source": [
    "list main"
   ]
  },
  {
   "cell_type": "markdown",
   "metadata": {},
   "source": [
    "Let us set a first breakpoint at line 6"
   ]
  },
  {
   "cell_type": "code",
   "execution_count": 3,
   "metadata": {},
   "outputs": [
    {
     "name": "stdout",
     "output_type": "stream",
     "text": [
      " Breakpoint 1 at 0x40052e: file dummy.c, line 6.\n"
     ]
    },
    {
     "ename": "",
     "evalue": "1",
     "output_type": "error",
     "traceback": []
    }
   ],
   "source": [
    "break 6"
   ]
  },
  {
   "cell_type": "markdown",
   "metadata": {},
   "source": [
    "We can now start the dummy program using `continue`, it will continue executuin and then halt at our breakpoint"
   ]
  },
  {
   "cell_type": "code",
   "execution_count": 4,
   "metadata": {},
   "outputs": [
    {
     "name": "stdout",
     "output_type": "stream",
     "text": [
      " Continuing.\n",
      "Reading /lib/x86_64-linux-gnu/libc.so.6 from remote target...\n",
      "Reading /lib/x86_64-linux-gnu/libc-2.23.so from remote target...\n",
      "Reading /lib/x86_64-linux-gnu/.debug/libc-2.23.so from remote target...\n",
      "\n",
      "Breakpoint 1, main () at dummy.c:6\n",
      "6\t    int i = 0;\n"
     ]
    },
    {
     "ename": "",
     "evalue": "1",
     "output_type": "error",
     "traceback": []
    }
   ],
   "source": [
    "continue"
   ]
  },
  {
   "cell_type": "markdown",
   "metadata": {},
   "source": [
    "Lets inspect all the local variables here using `info locals`"
   ]
  },
  {
   "cell_type": "code",
   "execution_count": 5,
   "metadata": {},
   "outputs": [
    {
     "name": "stdout",
     "output_type": "stream",
     "text": [
      " i = 0\n"
     ]
    },
    {
     "ename": "",
     "evalue": "1",
     "output_type": "error",
     "traceback": []
    }
   ],
   "source": [
    "info locals"
   ]
  },
  {
   "cell_type": "markdown",
   "metadata": {},
   "source": [
    "It is only `i` for this trivial program, we can set a conditional breakpoint at line `9` to stop when i reaches `7`"
   ]
  },
  {
   "cell_type": "code",
   "execution_count": 6,
   "metadata": {},
   "outputs": [
    {
     "name": "stdout",
     "output_type": "stream",
     "text": [
      " Breakpoint 2 at 0x40053e: file dummy.c, line 9.\n"
     ]
    },
    {
     "ename": "",
     "evalue": "1",
     "output_type": "error",
     "traceback": []
    }
   ],
   "source": [
    "break 9 if (i == 7)"
   ]
  },
  {
   "cell_type": "markdown",
   "metadata": {},
   "source": [
    "Since the execution is still halted, we will need to `continue` it again"
   ]
  },
  {
   "cell_type": "code",
   "execution_count": 7,
   "metadata": {},
   "outputs": [
    {
     "name": "stdout",
     "output_type": "stream",
     "text": [
      " Continuing.\n",
      "\n",
      "Breakpoint 2, main () at dummy.c:9\n",
      "9\t        printf(\"i: %d\\n\",i);\n"
     ]
    },
    {
     "ename": "",
     "evalue": "1",
     "output_type": "error",
     "traceback": []
    }
   ],
   "source": [
    "continue"
   ]
  },
  {
   "cell_type": "markdown",
   "metadata": {},
   "source": [
    "Lets check if `i` has the expected value using `printf`"
   ]
  },
  {
   "cell_type": "code",
   "execution_count": 8,
   "metadata": {},
   "outputs": [
    {
     "name": "stdout",
     "output_type": "stream",
     "text": [
      " The value of i is 7\n"
     ]
    },
    {
     "ename": "",
     "evalue": "1",
     "output_type": "error",
     "traceback": []
    }
   ],
   "source": [
    "printf \"The value of i is %d\\n\", i"
   ]
  },
  {
   "cell_type": "markdown",
   "metadata": {},
   "source": [
    "If we take a look at all our breakpoints using `info breakpoints`"
   ]
  },
  {
   "cell_type": "code",
   "execution_count": 9,
   "metadata": {},
   "outputs": [
    {
     "name": "stdout",
     "output_type": "stream",
     "text": [
      " Num     Type           Disp Enb Address            What\n",
      "1       breakpoint     keep y   0x000000000040052e in main at dummy.c:6\n",
      "\tbreakpoint already hit 1 time\n",
      "2       breakpoint     keep y   0x000000000040053e in main at dummy.c:9\n",
      "\tstop only if (i == 7) (target evals)\n",
      "\tbreakpoint already hit 1 time\n"
     ]
    },
    {
     "ename": "",
     "evalue": "1",
     "output_type": "error",
     "traceback": []
    }
   ],
   "source": [
    "info breakpoints"
   ]
  },
  {
   "cell_type": "markdown",
   "metadata": {},
   "source": [
    "We can see that the breakpoint will only trigger when `i == 7` so if we `continue` the program will finish"
   ]
  },
  {
   "cell_type": "code",
   "execution_count": 10,
   "metadata": {},
   "outputs": [
    {
     "name": "stdout",
     "output_type": "stream",
     "text": [
      " Continuing.\n",
      "[Inferior 1 (process 3610) exited normally]\n"
     ]
    },
    {
     "ename": "",
     "evalue": "1",
     "output_type": "error",
     "traceback": []
    }
   ],
   "source": [
    "continue"
   ]
  },
  {
   "cell_type": "code",
   "execution_count": null,
   "metadata": {
    "collapsed": true
   },
   "outputs": [],
   "source": []
  }
 ],
 "metadata": {
  "kernelspec": {
   "display_name": "GDB",
   "language": "gdb",
   "name": "spec"
  },
  "language_info": {
   "codemirror_mode": "shell",
   "file_extension": ".command",
   "mimetype": "text/x-gdb",
   "name": "gdb"
  }
 },
 "nbformat": 4,
 "nbformat_minor": 2
}
